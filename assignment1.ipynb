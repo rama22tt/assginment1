{
 "cells": [
  {
   "cell_type": "markdown",
   "id": "1e08b1a6-e100-417b-9581-dd26aa787f31",
   "metadata": {},
   "source": [
    "* Basic variable based questions\n",
    "* ASSIGNMENT1\n",
    "* 1.Declare two varriable,'x'and'y'..........."
   ]
  },
  {
   "cell_type": "code",
   "execution_count": null,
   "id": "50194f1e-9f3c-4789-b575-20ecedce9958",
   "metadata": {},
   "outputs": [],
   "source": [
    "#intilizing the variable integer value and swap value without using temporary variable.\n",
    "x=20\n",
    "y=10\n",
    "x=x+y\n",
    "y=x-y\n",
    "x=x-y"
   ]
  },
  {
   "cell_type": "code",
   "execution_count": 6,
   "id": "6d46eb65-74bb-49a5-8d9c-e4d99ee175b7",
   "metadata": {},
   "outputs": [
    {
     "data": {
      "text/plain": [
       "10"
      ]
     },
     "execution_count": 6,
     "metadata": {},
     "output_type": "execute_result"
    }
   ],
   "source": [
    "x"
   ]
  },
  {
   "cell_type": "code",
   "execution_count": 7,
   "id": "94dabdee-360d-420a-844a-82c63b3aadfa",
   "metadata": {},
   "outputs": [
    {
     "data": {
      "text/plain": [
       "20"
      ]
     },
     "execution_count": 7,
     "metadata": {},
     "output_type": "execute_result"
    }
   ],
   "source": [
    "y"
   ]
  },
  {
   "cell_type": "markdown",
   "id": "ca218595-ac79-4303-8991-b5f0c8d1da21",
   "metadata": {},
   "source": [
    "* 2. create program that calculates the area of area rectangle......."
   ]
  },
  {
   "cell_type": "code",
   "execution_count": 10,
   "id": "d7e0b3ad-54b3-47cf-a0e7-93a0221a1c6f",
   "metadata": {},
   "outputs": [
    {
     "name": "stdin",
     "output_type": "stream",
     "text": [
      "length of rectangle: 10\n",
      "width of rectangle: 20\n"
     ]
    },
    {
     "name": "stdout",
     "output_type": "stream",
     "text": [
      "area of rectangle: 200\n"
     ]
    }
   ],
   "source": [
    "#taking a input from user and store them into variable\n",
    "l=int(input(\"length of rectangle:\"))\n",
    "b=int(input(\"width of rectangle:\"))\n",
    "area=l*b\n",
    "print(\"area of rectangle:\",area)"
   ]
  },
  {
   "cell_type": "markdown",
   "id": "5a62c5c5-ad8e-4633-a913-a7ec25c8c2ee",
   "metadata": {},
   "source": [
    "* 3. write a python program that convert temperature from celsius to fahrenheit........."
   ]
  },
  {
   "cell_type": "code",
   "execution_count": 13,
   "id": "937d1dbe-bba7-4ed6-a913-8def374b75fe",
   "metadata": {},
   "outputs": [
    {
     "name": "stdin",
     "output_type": "stream",
     "text": [
      "Enter the Temprature in Calsius:\n",
      " 20\n"
     ]
    },
    {
     "name": "stdout",
     "output_type": "stream",
     "text": [
      "Temprature in Fahrenheit: 68.0\n"
     ]
    }
   ],
   "source": [
    "#taking the temprature in celsius as input,store it in variable\n",
    "Celsius=int(input(\"Enter the Temprature in Calsius:\\n\"))\n",
    "Fahrenheit=(1.8*Celsius)+32\n",
    "print(\"Temprature in Fahrenheit:\",Fahrenheit)"
   ]
  },
  {
   "cell_type": "markdown",
   "id": "716507e0-d33d-4444-8e12-0e126da3cba7",
   "metadata": {},
   "source": [
    "* String based programs\n",
    "* Assginment1\n",
    "* 1.Write a Python program that takes astring as input..........."
   ]
  },
  {
   "cell_type": "code",
   "execution_count": 15,
   "id": "a12ac56d-4d70-4997-9380-ff8b49265620",
   "metadata": {},
   "outputs": [
    {
     "name": "stdin",
     "output_type": "stream",
     "text": [
      " pwskills\n"
     ]
    },
    {
     "name": "stdout",
     "output_type": "stream",
     "text": [
      "length of string is: 8\n"
     ]
    }
   ],
   "source": [
    "#take string as variable and print length of vriable\n",
    "a=str(input())\n",
    "print(\"length of string is:\",len(a))"
   ]
  },
  {
   "cell_type": "markdown",
   "id": "26ac1de4-9a42-427f-965a-44fe6dac47a7",
   "metadata": {},
   "source": [
    "2. Create a program that takes a sentence from the user and count the number......."
   ]
  },
  {
   "cell_type": "code",
   "execution_count": 17,
   "id": "2d1c54fd-4676-460f-8fda-9b636088140a",
   "metadata": {},
   "outputs": [
    {
     "name": "stdin",
     "output_type": "stream",
     "text": [
      "Enter sentence: my name is priya\n"
     ]
    },
    {
     "name": "stdout",
     "output_type": "stream",
     "text": [
      "Total number of vowels in the string= 5\n"
     ]
    }
   ],
   "source": [
    "#taking input from user\n",
    "str1=input(\"Enter sentence:\")\n",
    "count=0\n",
    "for i in str1:\n",
    "    if(i=='a'or i=='e'or i=='i'or i=='o'or i=='u' or i=='A' or i=='E' or i==\"O\" or i=='U'):\n",
    "        count=count+1\n",
    "print(\"Total number of vowels in the string=\",count)\n"
   ]
  },
  {
   "cell_type": "markdown",
   "id": "dfc58376-9204-43c2-8c3a-ce747f2fc656",
   "metadata": {},
   "source": [
    "* 3.Given a string ,reverse the order of characters using string slicing.........."
   ]
  },
  {
   "cell_type": "code",
   "execution_count": 20,
   "id": "a23c2d5b-7717-4524-8ab6-66451c355d91",
   "metadata": {},
   "outputs": [
    {
     "name": "stdout",
     "output_type": "stream",
     "text": [
      "Reversed string: elpmas\n"
     ]
    }
   ],
   "source": [
    "str2=\"sample\"\n",
    "print(\"Reversed string:\",str2[ ::-1])\n"
   ]
  },
  {
   "cell_type": "markdown",
   "id": "d226c0ab-2909-4d12-b75a-99224ee99b0b",
   "metadata": {},
   "source": [
    "* 4. Write a program that takes a string as input and checks if it is a palidrome or not......"
   ]
  },
  {
   "cell_type": "code",
   "execution_count": 23,
   "id": "47edfcc5-1e45-4e6d-b5f5-31df35d065f1",
   "metadata": {},
   "outputs": [
    {
     "name": "stdin",
     "output_type": "stream",
     "text": [
      "Enter the string : arora\n"
     ]
    },
    {
     "name": "stdout",
     "output_type": "stream",
     "text": [
      "It is palidrome \n"
     ]
    }
   ],
   "source": [
    "#taking string as input\n",
    "str3=input(\"Enter the string :\")\n",
    "#just reversing string\n",
    "str4=str3[::-1]\n",
    "#applying condition to check\n",
    "if(str3==str4):\n",
    "    print(\"It is palidrome \")\n",
    "else:\n",
    "    print(\"It is not palidrome\")"
   ]
  },
  {
   "cell_type": "markdown",
   "id": "9a032516-d168-4289-9eda-6cb72ff2221a",
   "metadata": {},
   "source": [
    "* 5. Create a program that takes strings as input and removes all the spaces from it......."
   ]
  },
  {
   "cell_type": "code",
   "execution_count": 32,
   "id": "a8291d99-9d66-4014-927b-24f5ba44a183",
   "metadata": {},
   "outputs": [
    {
     "name": "stdout",
     "output_type": "stream",
     "text": [
      "String after removing all the white spaces:  Pythondatascience\n"
     ]
    }
   ],
   "source": [
    "#taking string as input\n",
    "str5=\"Python data  science\"\n",
    "str5=str5.replace(\" \",\"\")\n",
    "print(\"String after removing all the white spaces: \",str5)"
   ]
  },
  {
   "cell_type": "code",
   "execution_count": null,
   "id": "6d77fa6f-3f33-41bf-b84e-5ee534df5993",
   "metadata": {},
   "outputs": [],
   "source": []
  }
 ],
 "metadata": {
  "kernelspec": {
   "display_name": "Python 3 (ipykernel)",
   "language": "python",
   "name": "python3"
  },
  "language_info": {
   "codemirror_mode": {
    "name": "ipython",
    "version": 3
   },
   "file_extension": ".py",
   "mimetype": "text/x-python",
   "name": "python",
   "nbconvert_exporter": "python",
   "pygments_lexer": "ipython3",
   "version": "3.10.8"
  }
 },
 "nbformat": 4,
 "nbformat_minor": 5
}
